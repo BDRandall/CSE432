{
  "cells": [
    {
      "cell_type": "code",
      "execution_count": 2,
      "metadata": {
        "id": "iaIjTZAVCvp0"
      },
      "outputs": [],
      "source": [
        "import pandas as pd\n",
        "\n",
        "df = pd.read_excel('/content/encoded_allstats.xlsx')\n",
        "\n",
        "necessary = ['+/-', 'OFFRTG', 'DEFRTG', 'NETRTG', 'PIE', 'PTS', 'FGM', 'FTM', '3PM', 'FGA', 'FTA', '3PA', 'TEAM_encoded', 'OPPONENT_encoded', 'AST.1']\n",
        "\n",
        "columns_to_remove = necessary + ['OREB', 'DREB', 'REB', 'TOV', 'EFG%', 'AST', 'TS%']\n",
        "\n",
        "df = df.drop(columns_to_remove, axis=1)"
      ]
    },
    {
      "cell_type": "code",
      "execution_count": 3,
      "metadata": {
        "id": "pv5-iqVs5ARj"
      },
      "outputs": [],
      "source": [
        "# import necessary libraries\n",
        "from sklearn.svm import SVC\n",
        "from sklearn.metrics import accuracy_score\n",
        "from sklearn.preprocessing import MinMaxScaler\n",
        "from sklearn.preprocessing import StandardScaler\n",
        "from sklearn.model_selection import train_test_split"
      ]
    },
    {
      "cell_type": "code",
      "execution_count": 4,
      "metadata": {
        "id": "51NIlDMr4K_I"
      },
      "outputs": [],
      "source": [
        "# Make the train-test split in 80:20 ratio\n",
        "X = df.drop('W/L', axis = 1)\n",
        "y = df['W/L']\n",
        "X_train, X_test, y_train, y_test = train_test_split(X, y, test_size = 0.2, random_state = 1)\n",
        "\n",
        "# Normalize the X_train and X_test datasets by the min and max values\n",
        "# scaler = MinMaxScaler()\n",
        "scaler = StandardScaler()\n",
        "X_train = scaler.fit_transform(X_train)\n",
        "X_test = scaler.transform(X_test)"
      ]
    },
    {
      "cell_type": "markdown",
      "source": [
        "# **SVM**"
      ],
      "metadata": {
        "id": "9Uo2Y-7v4-4x"
      }
    },
    {
      "cell_type": "code",
      "execution_count": 5,
      "metadata": {
        "colab": {
          "base_uri": "https://localhost:8080/"
        },
        "id": "OhpMYufeT4O5",
        "outputId": "d5978692-6355-4738-8fe2-afd722e2286f"
      },
      "outputs": [
        {
          "output_type": "stream",
          "name": "stdout",
          "text": [
            "Accuracy: 0.8252032520325203\n"
          ]
        }
      ],
      "source": [
        "from sklearn.svm import SVC\n",
        "from sklearn.metrics import accuracy_score\n",
        "\n",
        "# Initialize the SVM Classifier\n",
        "model = SVC(kernel='linear')  # You can choose other kernels like 'rbf', 'poly', etc.\n",
        "\n",
        "# Train the model\n",
        "model.fit(X_train, y_train)\n",
        "\n",
        "# Predict on the test set\n",
        "y_pred = model.predict(X_test)\n",
        "\n",
        "# Evaluate the model\n",
        "accuracy = accuracy_score(y_test, y_pred)\n",
        "print(\"Accuracy:\", accuracy)"
      ]
    },
    {
      "cell_type": "markdown",
      "metadata": {
        "id": "IQS53TJ02Ifb"
      },
      "source": [
        "***Apply K-Fold CV ***"
      ]
    },
    {
      "cell_type": "code",
      "execution_count": 6,
      "metadata": {
        "colab": {
          "base_uri": "https://localhost:8080/"
        },
        "id": "CIQAdfSA0EtF",
        "outputId": "d4ac722a-c6be-4292-eaad-fc7c3e5fd01b"
      },
      "outputs": [
        {
          "output_type": "execute_result",
          "data": {
            "text/plain": [
              "array([0.8495935 , 0.84349593, 0.83943089, 0.83130081, 0.82520325])"
            ]
          },
          "metadata": {},
          "execution_count": 6
        }
      ],
      "source": [
        "from sklearn.model_selection import cross_val_score\n",
        "kfold = cross_val_score(model, X, y, cv=5)\n",
        "kfold"
      ]
    },
    {
      "cell_type": "code",
      "execution_count": 7,
      "metadata": {
        "colab": {
          "base_uri": "https://localhost:8080/"
        },
        "id": "bVlH_YHz0X_i",
        "outputId": "3e66835e-0bdb-4dfe-93ac-82adfafc4384"
      },
      "outputs": [
        {
          "output_type": "execute_result",
          "data": {
            "text/plain": [
              "0.8378048780487806"
            ]
          },
          "metadata": {},
          "execution_count": 7
        }
      ],
      "source": [
        "kfold.mean()"
      ]
    },
    {
      "cell_type": "markdown",
      "metadata": {
        "id": "AiJCJ2ML2Qwr"
      },
      "source": [
        "**Apply Stratified K-fold CV**"
      ]
    },
    {
      "cell_type": "code",
      "execution_count": 8,
      "metadata": {
        "colab": {
          "base_uri": "https://localhost:8080/"
        },
        "id": "gyhEHXsb1bWb",
        "outputId": "abea1b2e-33a1-435c-a4c8-750fba85a784"
      },
      "outputs": [
        {
          "output_type": "stream",
          "name": "stdout",
          "text": [
            "[0.8495935  0.84349593 0.83943089 0.83130081 0.82520325]\n"
          ]
        }
      ],
      "source": [
        "from sklearn.model_selection import StratifiedKFold\n",
        "strat_kfold = cross_val_score(model, X, y, cv=StratifiedKFold())\n",
        "print(strat_kfold)"
      ]
    },
    {
      "cell_type": "code",
      "execution_count": 9,
      "metadata": {
        "colab": {
          "base_uri": "https://localhost:8080/"
        },
        "id": "JvTQKB-d1csM",
        "outputId": "eabe80d8-33ea-4649-fbcd-74aa00bb7b8e"
      },
      "outputs": [
        {
          "output_type": "execute_result",
          "data": {
            "text/plain": [
              "0.8378048780487806"
            ]
          },
          "metadata": {},
          "execution_count": 9
        }
      ],
      "source": [
        "strat_kfold.mean()"
      ]
    },
    {
      "cell_type": "markdown",
      "source": [
        "**Hyperparameter Tuning**"
      ],
      "metadata": {
        "id": "h1gQUF8eDhRR"
      }
    },
    {
      "cell_type": "code",
      "execution_count": 10,
      "metadata": {
        "colab": {
          "base_uri": "https://localhost:8080/"
        },
        "id": "2g5fp5F4mROI",
        "outputId": "50b423d4-2ad3-4877-ab41-077f97bfa98b"
      },
      "outputs": [
        {
          "output_type": "stream",
          "name": "stdout",
          "text": [
            "Fitting 5 folds for each of 24 candidates, totalling 120 fits\n",
            "Accuracy:  0.846021105384844\n",
            "{'C': 1, 'gamma': 'scale', 'kernel': 'linear'}\n"
          ]
        }
      ],
      "source": [
        "from sklearn.model_selection import GridSearchCV\n",
        "\n",
        "# Define the parameter ranges to be tested\n",
        "C_range = [0.1, 1, 10, 100]              # Regularization parameter\n",
        "kernel_range = ['linear', 'rbf', 'poly'] # Kernel functions to be tested\n",
        "gamma_range = ['scale', 'auto']          # Kernel coefficient for 'rbf' and 'poly'\n",
        "\n",
        "# Create the parameter grid\n",
        "param_grid = {\n",
        "    'C': C_range,\n",
        "    'kernel': kernel_range,\n",
        "    'gamma': gamma_range\n",
        "}\n",
        "\n",
        "# Create the GridSearchCV object\n",
        "grid = GridSearchCV(estimator=SVC(),\n",
        "                    param_grid=param_grid,\n",
        "                    cv=5,\n",
        "                    scoring='accuracy',\n",
        "                    refit=True,  # Setting grid with estimator\n",
        "                    verbose=1)\n",
        "\n",
        "# Fit the grid\n",
        "grid.fit(X_train, y_train)\n",
        "\n",
        "# Print the best parameters and best score\n",
        "print(\"Accuracy: \", grid.best_score_)\n",
        "print(grid.best_params_)"
      ]
    },
    {
      "cell_type": "markdown",
      "metadata": {
        "id": "qV03TQcq4PMR"
      },
      "source": [
        "# **RANDOM FOREST**"
      ]
    },
    {
      "cell_type": "code",
      "execution_count": 11,
      "metadata": {
        "id": "Kn_izlqV4U8s"
      },
      "outputs": [],
      "source": [
        "from sklearn.ensemble import RandomForestClassifier\n",
        "rfc = RandomForestClassifier(n_estimators=100)\n",
        "rfc.fit(X_train,y_train)\n",
        "y_pred = rfc.predict(X_test)"
      ]
    },
    {
      "cell_type": "code",
      "execution_count": 12,
      "metadata": {
        "colab": {
          "base_uri": "https://localhost:8080/"
        },
        "id": "_deR1BBMWSMz",
        "outputId": "43689181-cc95-43c3-f521-3bf661d9563d"
      },
      "outputs": [
        {
          "output_type": "stream",
          "name": "stdout",
          "text": [
            "Accuracy: 0.7357723577235772\n"
          ]
        }
      ],
      "source": [
        "accuracy = accuracy_score(y_test, y_pred)\n",
        "print(\"Accuracy:\", accuracy)"
      ]
    },
    {
      "cell_type": "markdown",
      "metadata": {
        "id": "HTZRHi-b5avq"
      },
      "source": [
        "***Apply K-Fold CV ***"
      ]
    },
    {
      "cell_type": "code",
      "execution_count": 13,
      "metadata": {
        "colab": {
          "base_uri": "https://localhost:8080/"
        },
        "outputId": "d9b5b13a-c671-4cf5-b571-d3d9edb3467d",
        "id": "m2n7J5-_5avq"
      },
      "outputs": [
        {
          "output_type": "execute_result",
          "data": {
            "text/plain": [
              "array([0.77235772, 0.78658537, 0.76219512, 0.75      , 0.73780488])"
            ]
          },
          "metadata": {},
          "execution_count": 13
        }
      ],
      "source": [
        "from sklearn.model_selection import cross_val_score\n",
        "kfold = cross_val_score(rfc, X, y, cv=5)\n",
        "kfold"
      ]
    },
    {
      "cell_type": "code",
      "execution_count": 14,
      "metadata": {
        "colab": {
          "base_uri": "https://localhost:8080/"
        },
        "outputId": "d204c7e9-f580-4c20-9a72-9eaef9864519",
        "id": "0kQQXAmU5avq"
      },
      "outputs": [
        {
          "output_type": "execute_result",
          "data": {
            "text/plain": [
              "0.7617886178861789"
            ]
          },
          "metadata": {},
          "execution_count": 14
        }
      ],
      "source": [
        "kfold.mean()"
      ]
    },
    {
      "cell_type": "markdown",
      "metadata": {
        "id": "ENcsmPKS5avr"
      },
      "source": [
        "**Apply Stratified K-fold CV**"
      ]
    },
    {
      "cell_type": "code",
      "execution_count": 15,
      "metadata": {
        "colab": {
          "base_uri": "https://localhost:8080/"
        },
        "outputId": "6f4326cb-9ba7-4808-ee84-b3140edc64e6",
        "id": "KJIZmCC_5avr"
      },
      "outputs": [
        {
          "output_type": "stream",
          "name": "stdout",
          "text": [
            "[0.79268293 0.80284553 0.75609756 0.75203252 0.74186992]\n"
          ]
        }
      ],
      "source": [
        "from sklearn.model_selection import StratifiedKFold\n",
        "strat_kfold = cross_val_score(rfc, X, y, cv=StratifiedKFold())\n",
        "print(strat_kfold)"
      ]
    },
    {
      "cell_type": "code",
      "execution_count": 16,
      "metadata": {
        "colab": {
          "base_uri": "https://localhost:8080/"
        },
        "outputId": "f4553d8e-a5a7-4304-cb62-afa92c1d3b70",
        "id": "TUU5PkmZ5avr"
      },
      "outputs": [
        {
          "output_type": "execute_result",
          "data": {
            "text/plain": [
              "0.7691056910569105"
            ]
          },
          "metadata": {},
          "execution_count": 16
        }
      ],
      "source": [
        "strat_kfold.mean()"
      ]
    },
    {
      "cell_type": "markdown",
      "source": [
        "**Hyperparameter Tuning**"
      ],
      "metadata": {
        "id": "-Ed_xw4rDnSE"
      }
    },
    {
      "cell_type": "code",
      "execution_count": 17,
      "metadata": {
        "colab": {
          "base_uri": "https://localhost:8080/"
        },
        "id": "yasIl17AoFz2",
        "outputId": "dd9befc9-9f73-4a68-8c04-5c79e06f4dba"
      },
      "outputs": [
        {
          "output_type": "stream",
          "name": "stdout",
          "text": [
            "Fitting 5 folds for each of 216 candidates, totalling 1080 fits\n",
            "Accuracy: 0.7814856434300772\n",
            "{'criterion': 'entropy', 'max_depth': 10, 'min_samples_leaf': 1, 'min_samples_split': 2, 'n_estimators': 300}\n"
          ]
        }
      ],
      "source": [
        "from sklearn.model_selection import GridSearchCV\n",
        "\n",
        "criteria = [\"gini\", \"entropy\"]              #criteria to be tested\n",
        "min_sample_split_range = [2,10, 20]         #min sample split to be tested\n",
        "max_depth_range = [None, 2, 5, 10]          #max depth to be tested\n",
        "min_samples_leaf_range = [1, 5, 10]         #min samples in the leaf to be tested\n",
        "min_leaf_nodes_range = [None, 5, 10, 20]    #min leaf nodes to be tested\n",
        "# Added parameters\n",
        "n_estimators = [100, 300, 600]              #n_estimators to be tested#\n",
        "\n",
        "param_grid = {\"criterion\": criteria,\n",
        "              \"min_samples_split\": min_sample_split_range,\n",
        "              \"max_depth\": max_depth_range,\n",
        "              \"min_samples_leaf\": min_samples_leaf_range,\n",
        "              #\"max_leaf_nodes\": min_leaf_nodes_range,\n",
        "              \"n_estimators\" : n_estimators\n",
        "                }\n",
        "\n",
        "grid = GridSearchCV(estimator=RandomForestClassifier(),\n",
        "                    param_grid=param_grid,\n",
        "                    cv = 5,\n",
        "                    scoring='accuracy',\n",
        "                    refit=True, #setting grid with estimator\n",
        "                    verbose=1)\n",
        "\n",
        "grid.fit(X_train, y_train)\n",
        "print(\"Accuracy:\", grid.best_score_)\n",
        "print(grid.best_params_)"
      ]
    },
    {
      "cell_type": "markdown",
      "metadata": {
        "id": "0eMGG8Q7-x7W"
      },
      "source": [
        "# **Naive Bayes**"
      ]
    },
    {
      "cell_type": "code",
      "execution_count": 18,
      "metadata": {
        "id": "Buf-0xV1-zz5"
      },
      "outputs": [],
      "source": [
        "from sklearn.naive_bayes import GaussianNB\n",
        "gaussian = GaussianNB()\n",
        "gaussian.fit(X_train, y_train)\n",
        "y_pred = gaussian.predict(X_test)"
      ]
    },
    {
      "cell_type": "code",
      "execution_count": 19,
      "metadata": {
        "id": "Omi5jA1WW_c7",
        "colab": {
          "base_uri": "https://localhost:8080/"
        },
        "outputId": "1c15e124-86b6-492e-c7d0-b24f64c74b3c"
      },
      "outputs": [
        {
          "output_type": "stream",
          "name": "stdout",
          "text": [
            "Accuracy: 0.7317073170731707\n"
          ]
        }
      ],
      "source": [
        "accuracy = accuracy_score(y_test, y_pred)\n",
        "print(\"Accuracy:\", accuracy)"
      ]
    },
    {
      "cell_type": "markdown",
      "metadata": {
        "id": "TO3GbCXN6HYE"
      },
      "source": [
        "***Apply K-Fold CV ***"
      ]
    },
    {
      "cell_type": "code",
      "execution_count": 20,
      "metadata": {
        "colab": {
          "base_uri": "https://localhost:8080/"
        },
        "outputId": "c08a1435-9a27-4ae6-bc9b-1cdd15d323a5",
        "id": "gKae0ZmS6HYM"
      },
      "outputs": [
        {
          "output_type": "execute_result",
          "data": {
            "text/plain": [
              "array([0.76626016, 0.79674797, 0.72560976, 0.73170732, 0.74593496])"
            ]
          },
          "metadata": {},
          "execution_count": 20
        }
      ],
      "source": [
        "from sklearn.model_selection import cross_val_score\n",
        "kfold = cross_val_score(gaussian, X, y, cv=5)\n",
        "kfold"
      ]
    },
    {
      "cell_type": "code",
      "execution_count": 21,
      "metadata": {
        "colab": {
          "base_uri": "https://localhost:8080/"
        },
        "outputId": "c6f8999d-ef43-47b3-b116-4e2b23235647",
        "id": "BRpN8K396HYM"
      },
      "outputs": [
        {
          "output_type": "execute_result",
          "data": {
            "text/plain": [
              "0.7532520325203252"
            ]
          },
          "metadata": {},
          "execution_count": 21
        }
      ],
      "source": [
        "kfold.mean()"
      ]
    },
    {
      "cell_type": "markdown",
      "metadata": {
        "id": "JkNBdslK6HYM"
      },
      "source": [
        "**Apply Stratified K-fold CV**"
      ]
    },
    {
      "cell_type": "code",
      "execution_count": 22,
      "metadata": {
        "colab": {
          "base_uri": "https://localhost:8080/"
        },
        "outputId": "70634373-a9ec-4718-d497-5acb7cd14f84",
        "id": "Mox6ZZQ06HYN"
      },
      "outputs": [
        {
          "output_type": "stream",
          "name": "stdout",
          "text": [
            "[0.76626016 0.79674797 0.72560976 0.73170732 0.74593496]\n"
          ]
        }
      ],
      "source": [
        "from sklearn.model_selection import StratifiedKFold\n",
        "strat_kfold = cross_val_score(gaussian, X, y, cv=StratifiedKFold())\n",
        "print(strat_kfold)"
      ]
    },
    {
      "cell_type": "code",
      "execution_count": 23,
      "metadata": {
        "colab": {
          "base_uri": "https://localhost:8080/"
        },
        "outputId": "c8834ab1-7da6-483d-f0a1-7a8928bf707c",
        "id": "Fhc3MACX6HYN"
      },
      "outputs": [
        {
          "output_type": "execute_result",
          "data": {
            "text/plain": [
              "0.7532520325203252"
            ]
          },
          "metadata": {},
          "execution_count": 23
        }
      ],
      "source": [
        "strat_kfold.mean()"
      ]
    },
    {
      "cell_type": "markdown",
      "source": [
        "**Hyperparameter Tuning**"
      ],
      "metadata": {
        "id": "AJAaD1UoDpIf"
      }
    },
    {
      "cell_type": "code",
      "execution_count": 24,
      "metadata": {
        "id": "hqFU_g1YnWwf",
        "colab": {
          "base_uri": "https://localhost:8080/"
        },
        "outputId": "6ae19b32-ecad-4709-ba90-fa0c8ee9fb1e"
      },
      "outputs": [
        {
          "output_type": "stream",
          "name": "stdout",
          "text": [
            "Fitting 5 folds for each of 5 candidates, totalling 25 fits\n",
            "Accuracy:  0.761160408674649\n",
            "{'var_smoothing': 0.1}\n"
          ]
        }
      ],
      "source": [
        "from sklearn.model_selection import GridSearchCV\n",
        "\n",
        "# Define the parameter ranges to be tested\n",
        "var_smoothing_range = [1e-9, 1e-7, 1e-5, 1e-3, 1e-1]\n",
        "\n",
        "# Create the parameter grid\n",
        "param_grid = {\n",
        "    'var_smoothing': var_smoothing_range\n",
        "}\n",
        "\n",
        "# Create the GridSearchCV object\n",
        "grid = GridSearchCV(estimator=GaussianNB(),\n",
        "                    param_grid=param_grid,\n",
        "                    cv=5,\n",
        "                    scoring='accuracy',\n",
        "                    refit=True,  # Setting grid with estimator\n",
        "                    verbose=1)\n",
        "\n",
        "# Fit the grid\n",
        "grid.fit(X_train, y_train)\n",
        "\n",
        "# Print the best parameters and best score\n",
        "print(\"Accuracy: \", grid.best_score_)\n",
        "print(grid.best_params_)"
      ]
    }
  ],
  "metadata": {
    "colab": {
      "provenance": []
    },
    "kernelspec": {
      "display_name": "Python 3",
      "name": "python3"
    },
    "language_info": {
      "name": "python"
    }
  },
  "nbformat": 4,
  "nbformat_minor": 0
}