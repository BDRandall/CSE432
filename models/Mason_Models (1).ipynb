{
  "cells": [
    {
      "cell_type": "code",
      "execution_count": null,
      "metadata": {
        "id": "iaIjTZAVCvp0"
      },
      "outputs": [],
      "source": [
        "import pandas as pd\n",
        "\n",
        "df = pd.read_excel('/content/encoded_allstats.xlsx')\n",
        "\n",
        "columns_to_remove = ['+/-', 'OFFRTG', 'DEFRTG', 'NETRTG', 'PIE', 'PTS', 'FGM', 'FTM', '3PM', 'FGA', 'FTA', '3PA']\n",
        "\n",
        "df = df.drop(columns_to_remove, axis=1)"
      ]
    },
    {
      "cell_type": "code",
      "execution_count": null,
      "metadata": {
        "id": "pv5-iqVs5ARj"
      },
      "outputs": [],
      "source": [
        "# import necessary libraries\n",
        "from sklearn.svm import SVC\n",
        "from sklearn.metrics import accuracy_score\n",
        "from sklearn.preprocessing import MinMaxScaler\n",
        "from sklearn.preprocessing import StandardScaler\n",
        "from sklearn.model_selection import train_test_split"
      ]
    },
    {
      "cell_type": "code",
      "execution_count": null,
      "metadata": {
        "id": "51NIlDMr4K_I"
      },
      "outputs": [],
      "source": [
        "# Make the train-test split in 80:20 ratio\n",
        "X = df.drop('W/L', axis = 1)\n",
        "y = df['W/L']\n",
        "X_train, X_test, y_train, y_test = train_test_split(X, y, test_size = 0.2, random_state = 1)\n",
        "\n",
        "# Normalize the X_train and X_test datasets by the min and max values\n",
        "# scaler = MinMaxScaler()\n",
        "scaler = StandardScaler()\n",
        "X_train = scaler.fit_transform(X_train)\n",
        "X_test = scaler.transform(X_test)"
      ]
    },
    {
      "cell_type": "code",
      "execution_count": null,
      "metadata": {
        "colab": {
          "base_uri": "https://localhost:8080/"
        },
        "id": "OhpMYufeT4O5",
        "outputId": "5f123ce2-12e6-4baa-ea32-6d4b9ad03362"
      },
      "outputs": [
        {
          "output_type": "stream",
          "name": "stdout",
          "text": [
            "Accuracy: 0.8434959349593496\n"
          ]
        }
      ],
      "source": [
        "from sklearn.svm import SVC\n",
        "from sklearn.metrics import accuracy_score\n",
        "\n",
        "# Initialize the SVM Classifier\n",
        "model = SVC(kernel='linear')  # You can choose other kernels like 'rbf', 'poly', etc.\n",
        "\n",
        "# Train the model\n",
        "model.fit(X_train, y_train)\n",
        "\n",
        "# Predict on the test set\n",
        "y_pred = model.predict(X_test)\n",
        "\n",
        "# Evaluate the model\n",
        "accuracy = accuracy_score(y_test, y_pred)\n",
        "print(\"Accuracy:\", accuracy)"
      ]
    },
    {
      "cell_type": "markdown",
      "metadata": {
        "id": "IQS53TJ02Ifb"
      },
      "source": [
        "***Apply K-Fold CV ***"
      ]
    },
    {
      "cell_type": "code",
      "execution_count": null,
      "metadata": {
        "colab": {
          "base_uri": "https://localhost:8080/"
        },
        "id": "CIQAdfSA0EtF",
        "outputId": "a0491516-0c54-427f-e8c1-d7b7382b715d"
      },
      "outputs": [
        {
          "output_type": "execute_result",
          "data": {
            "text/plain": [
              "array([0.96666667, 0.96666667, 0.93333333, 0.93333333, 1.        ])"
            ]
          },
          "metadata": {},
          "execution_count": 30
        }
      ],
      "source": [
        "from sklearn.model_selection import cross_val_score\n",
        "kfold = cross_val_score(model, X, y, cv=5)\n",
        "kfold"
      ]
    },
    {
      "cell_type": "code",
      "execution_count": null,
      "metadata": {
        "colab": {
          "base_uri": "https://localhost:8080/"
        },
        "id": "bVlH_YHz0X_i",
        "outputId": "20d71e2e-a243-408f-b8a0-cc299739f8c4"
      },
      "outputs": [
        {
          "output_type": "execute_result",
          "data": {
            "text/plain": [
              "0.96"
            ]
          },
          "metadata": {},
          "execution_count": 31
        }
      ],
      "source": [
        "kfold.mean()"
      ]
    },
    {
      "cell_type": "markdown",
      "metadata": {
        "id": "AiJCJ2ML2Qwr"
      },
      "source": [
        "**Apply Stratified K-fold CV**"
      ]
    },
    {
      "cell_type": "code",
      "execution_count": null,
      "metadata": {
        "colab": {
          "base_uri": "https://localhost:8080/"
        },
        "id": "gyhEHXsb1bWb",
        "outputId": "9eb170e7-5dbf-49ea-ac0f-ded613ce9b96"
      },
      "outputs": [
        {
          "output_type": "stream",
          "name": "stdout",
          "text": [
            "[0.96666667 0.96666667 0.93333333 0.93333333 1.        ]\n"
          ]
        }
      ],
      "source": [
        "from sklearn.model_selection import StratifiedKFold\n",
        "strat_kfold = cross_val_score(model, X, y, cv=StratifiedKFold())\n",
        "print(strat_kfold)"
      ]
    },
    {
      "cell_type": "code",
      "execution_count": null,
      "metadata": {
        "colab": {
          "base_uri": "https://localhost:8080/"
        },
        "id": "JvTQKB-d1csM",
        "outputId": "936fb6a1-b575-4a13-99f7-50803eb7f311"
      },
      "outputs": [
        {
          "output_type": "execute_result",
          "data": {
            "text/plain": [
              "0.96"
            ]
          },
          "metadata": {},
          "execution_count": 33
        }
      ],
      "source": [
        "strat_kfold.mean()"
      ]
    },
    {
      "cell_type": "markdown",
      "metadata": {
        "id": "UluQJIVj2bvj"
      },
      "source": [
        "**Apply LOOCV**"
      ]
    },
    {
      "cell_type": "code",
      "execution_count": null,
      "metadata": {
        "colab": {
          "base_uri": "https://localhost:8080/"
        },
        "id": "G6DkgS-R1sUF",
        "outputId": "8aa09323-623e-4b1b-e486-55e32d299fa5"
      },
      "outputs": [
        {
          "output_type": "stream",
          "name": "stdout",
          "text": [
            "[1. 1. 1. 1. 1. 1. 1. 1. 1. 1. 1. 1. 1. 1. 1. 1. 1. 1. 1. 1. 1. 1. 1. 1.\n",
            " 1. 1. 1. 1. 1. 1. 1. 1. 1. 1. 1. 1. 1. 1. 1. 1. 1. 1. 1. 1. 1. 1. 1. 1.\n",
            " 1. 1. 1. 1. 1. 1. 1. 1. 1. 1. 1. 1. 1. 1. 1. 1. 1. 1. 1. 1. 1. 1. 0. 1.\n",
            " 1. 1. 1. 1. 1. 0. 1. 1. 1. 1. 1. 0. 1. 1. 1. 1. 1. 1. 1. 1. 1. 1. 1. 1.\n",
            " 1. 1. 1. 1. 1. 1. 1. 1. 1. 1. 0. 1. 1. 1. 1. 1. 1. 1. 1. 1. 1. 1. 1. 0.\n",
            " 1. 1. 1. 1. 1. 1. 1. 1. 1. 1. 1. 1. 1. 0. 1. 1. 1. 1. 1. 1. 1. 1. 1. 1.\n",
            " 1. 1. 1. 1. 1. 1.]\n"
          ]
        }
      ],
      "source": [
        "from sklearn.model_selection import LeaveOneOut\n",
        "scores2 = cross_val_score(rfc, X, y, cv=LeaveOneOut())\n",
        "print(scores2)"
      ]
    },
    {
      "cell_type": "code",
      "execution_count": null,
      "metadata": {
        "colab": {
          "base_uri": "https://localhost:8080/"
        },
        "id": "PG9Z6Mqu1t0h",
        "outputId": "98c1c127-c1a4-4f41-f3b0-f9c79275170c"
      },
      "outputs": [
        {
          "output_type": "execute_result",
          "data": {
            "text/plain": [
              "0.96"
            ]
          },
          "metadata": {},
          "execution_count": 35
        }
      ],
      "source": [
        "scores2.mean()"
      ]
    },
    {
      "cell_type": "markdown",
      "source": [
        "**Hyperparameter Tuning**"
      ],
      "metadata": {
        "id": "h1gQUF8eDhRR"
      }
    },
    {
      "cell_type": "code",
      "execution_count": null,
      "metadata": {
        "colab": {
          "base_uri": "https://localhost:8080/"
        },
        "id": "2g5fp5F4mROI",
        "outputId": "8011a350-51c8-4e68-8061-95fef183180e"
      },
      "outputs": [
        {
          "output_type": "stream",
          "name": "stdout",
          "text": [
            "Fitting 5 folds for each of 24 candidates, totalling 120 fits\n",
            "Accuracy:  0.8536495266142262\n",
            "{'C': 10, 'gamma': 'scale', 'kernel': 'linear'}\n"
          ]
        }
      ],
      "source": [
        "from sklearn.model_selection import GridSearchCV\n",
        "\n",
        "# Define the parameter ranges to be tested\n",
        "C_range = [0.1, 1, 10, 100]              # Regularization parameter\n",
        "kernel_range = ['linear', 'rbf', 'poly'] # Kernel functions to be tested\n",
        "gamma_range = ['scale', 'auto']          # Kernel coefficient for 'rbf' and 'poly'\n",
        "\n",
        "# Create the parameter grid\n",
        "param_grid = {\n",
        "    'C': C_range,\n",
        "    'kernel': kernel_range,\n",
        "    'gamma': gamma_range\n",
        "}\n",
        "\n",
        "# Create the GridSearchCV object\n",
        "grid = GridSearchCV(estimator=SVC(),\n",
        "                    param_grid=param_grid,\n",
        "                    cv=5,\n",
        "                    scoring='accuracy',\n",
        "                    refit=True,  # Setting grid with estimator\n",
        "                    verbose=1)\n",
        "\n",
        "# Fit the grid\n",
        "grid.fit(X_train, y_train)\n",
        "\n",
        "# Print the best parameters and best score\n",
        "print(\"Accuracy: \", grid.best_score_)\n",
        "print(grid.best_params_)"
      ]
    },
    {
      "cell_type": "markdown",
      "metadata": {
        "id": "qV03TQcq4PMR"
      },
      "source": [
        "# **RANDOM FOREST**"
      ]
    },
    {
      "cell_type": "code",
      "execution_count": null,
      "metadata": {
        "id": "Kn_izlqV4U8s"
      },
      "outputs": [],
      "source": [
        "from sklearn.ensemble import RandomForestClassifier\n",
        "rfc = RandomForestClassifier(n_estimators=100)\n",
        "rfc.fit(X_train,y_train)\n",
        "y_pred = rfc.predict(X_test)"
      ]
    },
    {
      "cell_type": "code",
      "execution_count": null,
      "metadata": {
        "colab": {
          "base_uri": "https://localhost:8080/"
        },
        "id": "_deR1BBMWSMz",
        "outputId": "a852b740-c47d-4d3d-9f59-7ba0e26c82ce"
      },
      "outputs": [
        {
          "output_type": "stream",
          "name": "stdout",
          "text": [
            "Accuracy: 0.7886178861788617\n"
          ]
        }
      ],
      "source": [
        "accuracy = accuracy_score(y_test, y_pred)\n",
        "print(\"Accuracy:\", accuracy)"
      ]
    },
    {
      "cell_type": "markdown",
      "source": [
        "**Hyperparameter Tuning**"
      ],
      "metadata": {
        "id": "-Ed_xw4rDnSE"
      }
    },
    {
      "cell_type": "code",
      "execution_count": null,
      "metadata": {
        "colab": {
          "base_uri": "https://localhost:8080/"
        },
        "id": "yasIl17AoFz2",
        "outputId": "0b8330e3-adb0-4378-ab54-3696ba98fb6d"
      },
      "outputs": [
        {
          "output_type": "stream",
          "name": "stdout",
          "text": [
            "Fitting 5 folds for each of 216 candidates, totalling 1080 fits\n",
            "Accuracy: 0.8114710479068986\n",
            "{'criterion': 'entropy', 'max_depth': None, 'min_samples_leaf': 1, 'min_samples_split': 2, 'n_estimators': 300}\n"
          ]
        }
      ],
      "source": [
        "from sklearn.model_selection import GridSearchCV\n",
        "\n",
        "criteria = [\"gini\", \"entropy\"]              #criteria to be tested\n",
        "min_sample_split_range = [2,10, 20]         #min sample split to be tested\n",
        "max_depth_range = [None, 2, 5, 10]          #max depth to be tested\n",
        "min_samples_leaf_range = [1, 5, 10]         #min samples in the leaf to be tested\n",
        "min_leaf_nodes_range = [None, 5, 10, 20]    #min leaf nodes to be tested\n",
        "# Added parameters\n",
        "n_estimators = [100, 300, 600]              #n_estimators to be tested#\n",
        "\n",
        "param_grid = {\"criterion\": criteria,\n",
        "              \"min_samples_split\": min_sample_split_range,\n",
        "              \"max_depth\": max_depth_range,\n",
        "              \"min_samples_leaf\": min_samples_leaf_range,\n",
        "              #\"max_leaf_nodes\": min_leaf_nodes_range,\n",
        "              \"n_estimators\" : n_estimators\n",
        "                }\n",
        "\n",
        "grid = GridSearchCV(estimator=RandomForestClassifier(),\n",
        "                    param_grid=param_grid,\n",
        "                    cv = 5,\n",
        "                    scoring='accuracy',\n",
        "                    refit=True, #setting grid with estimator\n",
        "                    verbose=1)\n",
        "\n",
        "grid.fit(X_train, y_train)\n",
        "print(\"Accuracy:\", grid.best_score_)\n",
        "print(grid.best_params_)"
      ]
    },
    {
      "cell_type": "markdown",
      "metadata": {
        "id": "0eMGG8Q7-x7W"
      },
      "source": [
        "# **Naive Bayes**"
      ]
    },
    {
      "cell_type": "code",
      "execution_count": null,
      "metadata": {
        "id": "Buf-0xV1-zz5"
      },
      "outputs": [],
      "source": [
        "from sklearn.naive_bayes import GaussianNB\n",
        "gaussian = GaussianNB()\n",
        "gaussian.fit(X_train, y_train)\n",
        "y_pred = gaussian.predict(X_test)"
      ]
    },
    {
      "cell_type": "code",
      "execution_count": null,
      "metadata": {
        "id": "Omi5jA1WW_c7",
        "colab": {
          "base_uri": "https://localhost:8080/"
        },
        "outputId": "2e86ba52-e7a6-4fcd-8b7f-60aa6b11fa41"
      },
      "outputs": [
        {
          "output_type": "stream",
          "name": "stdout",
          "text": [
            "Accuracy: 0.7235772357723578\n"
          ]
        }
      ],
      "source": [
        "accuracy = accuracy_score(y_test, y_pred)\n",
        "print(\"Accuracy:\", accuracy)"
      ]
    },
    {
      "cell_type": "markdown",
      "source": [
        "**Hyperparameter Tuning**"
      ],
      "metadata": {
        "id": "AJAaD1UoDpIf"
      }
    },
    {
      "cell_type": "code",
      "execution_count": null,
      "metadata": {
        "id": "hqFU_g1YnWwf",
        "colab": {
          "base_uri": "https://localhost:8080/"
        },
        "outputId": "c0a7e6b9-467e-466b-f423-0066089ab3e8"
      },
      "outputs": [
        {
          "output_type": "stream",
          "name": "stdout",
          "text": [
            "Fitting 5 folds for each of 5 candidates, totalling 25 fits\n",
            "Accuracy:  0.7565918807558674\n",
            "{'var_smoothing': 1e-09}\n"
          ]
        }
      ],
      "source": [
        "from sklearn.model_selection import GridSearchCV\n",
        "\n",
        "# Define the parameter ranges to be tested\n",
        "var_smoothing_range = [1e-9, 1e-7, 1e-5, 1e-3, 1e-1]\n",
        "\n",
        "# Create the parameter grid\n",
        "param_grid = {\n",
        "    'var_smoothing': var_smoothing_range\n",
        "}\n",
        "\n",
        "# Create the GridSearchCV object\n",
        "grid = GridSearchCV(estimator=GaussianNB(),\n",
        "                    param_grid=param_grid,\n",
        "                    cv=5,\n",
        "                    scoring='accuracy',\n",
        "                    refit=True,  # Setting grid with estimator\n",
        "                    verbose=1)\n",
        "\n",
        "# Fit the grid\n",
        "grid.fit(X_train, y_train)\n",
        "\n",
        "# Print the best parameters and best score\n",
        "print(\"Accuracy: \", grid.best_score_)\n",
        "print(grid.best_params_)"
      ]
    }
  ],
  "metadata": {
    "colab": {
      "provenance": []
    },
    "kernelspec": {
      "display_name": "Python 3",
      "name": "python3"
    },
    "language_info": {
      "name": "python"
    }
  },
  "nbformat": 4,
  "nbformat_minor": 0
}